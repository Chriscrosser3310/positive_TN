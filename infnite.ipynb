{
 "cells": [
  {
   "cell_type": "code",
   "execution_count": 22,
   "metadata": {},
   "outputs": [],
   "source": [
    "from src.stats_model import *\n",
    "import scipy.linalg as la"
   ]
  },
  {
   "cell_type": "code",
   "execution_count": 90,
   "metadata": {},
   "outputs": [
    {
     "name": "stdout",
     "output_type": "stream",
     "text": [
      "6.010127031412342\n",
      "3.04643613230867e-10\n"
     ]
    }
   ],
   "source": [
    "def largest_eigvec(M):\n",
    "    w, vr = la.eig(M)\n",
    "    v = vr[:, np.argmax(w)]\n",
    "    return v\n",
    "\n",
    "d = 10000\n",
    "mu = 1\n",
    "\n",
    "T = SM_TI_site(d, mu)\n",
    "\n",
    "L = delta(7, 3)\n",
    "stop = False\n",
    "while not stop:\n",
    "    M1 = np.einsum(\"ijk,opkn,lmn->ioljpm\", L, T, L).reshape((7**3, 7**3))\n",
    "    E = largest_eigvec(M1).reshape((7, 7, 7)).swapaxes(0, 1)\n",
    "\n",
    "    M2 = np.einsum(\"ijk,ilm->jlkm\", E, E).reshape((7**2, 7**2))\n",
    "    C = largest_eigvec(M2).reshape((7, 7))\n",
    "                                \n",
    "    M3 = np.einsum(\"ijk,ilop,lmn->jomkpn\", E, T, E).reshape((7**3, 7**3))\n",
    "    LC = largest_eigvec(M3).reshape((7, 7, 7))\n",
    "    new_L = np.einsum(\"ijk,kl->ijl\", LC, la.pinv(C)).swapaxes(1, 2)\n",
    "    diff = np.sum(abs(new_L - L))\n",
    "    print(diff)\n",
    "    if diff < 1E-5:\n",
    "        stop = True\n",
    "    L = new_L"
   ]
  },
  {
   "cell_type": "code",
   "execution_count": 91,
   "metadata": {},
   "outputs": [
    {
     "data": {
      "text/plain": [
       "(array([5, 5, 5, 5, 5, 5, 5], dtype=int64),\n",
       " array([5, 5, 5, 5, 5, 5, 5], dtype=int64),\n",
       " array([0, 1, 2, 3, 4, 5, 6], dtype=int64))"
      ]
     },
     "execution_count": 91,
     "metadata": {},
     "output_type": "execute_result"
    }
   ],
   "source": [
    "np.nonzero(L)"
   ]
  },
  {
   "cell_type": "code",
   "execution_count": 93,
   "metadata": {},
   "outputs": [
    {
     "data": {
      "text/plain": [
       "array([1.25078154e-07+0.j, 5.00100020e-03+0.j, 3.75050018e-05+0.j,\n",
       "       3.75050018e-05+0.j, 2.50098471e-05+0.j, 9.99974989e-01+0.j,\n",
       "       5.00087518e-03+0.j])"
      ]
     },
     "execution_count": 93,
     "metadata": {},
     "output_type": "execute_result"
    }
   ],
   "source": [
    "L[5, 5, :]"
   ]
  },
  {
   "cell_type": "code",
   "execution_count": 94,
   "metadata": {},
   "outputs": [
    {
     "data": {
      "text/plain": [
       "array([[0.+0.j, 0.+0.j, 0.+0.j, 0.+0.j, 0.+0.j, 0.+0.j, 0.+0.j],\n",
       "       [0.+0.j, 0.+0.j, 0.+0.j, 0.+0.j, 0.+0.j, 0.+0.j, 0.+0.j],\n",
       "       [0.+0.j, 0.+0.j, 0.+0.j, 0.+0.j, 0.+0.j, 0.+0.j, 0.+0.j],\n",
       "       [0.+0.j, 0.+0.j, 0.+0.j, 0.+0.j, 0.+0.j, 0.+0.j, 0.+0.j],\n",
       "       [0.+0.j, 0.+0.j, 0.+0.j, 0.+0.j, 0.+0.j, 0.+0.j, 0.+0.j],\n",
       "       [0.+0.j, 0.+0.j, 0.+0.j, 0.+0.j, 0.+0.j, 1.+0.j, 0.+0.j],\n",
       "       [0.+0.j, 0.+0.j, 0.+0.j, 0.+0.j, 0.+0.j, 0.+0.j, 0.+0.j]])"
      ]
     },
     "execution_count": 94,
     "metadata": {},
     "output_type": "execute_result"
    }
   ],
   "source": [
    "C"
   ]
  },
  {
   "cell_type": "code",
   "execution_count": null,
   "metadata": {},
   "outputs": [],
   "source": []
  }
 ],
 "metadata": {
  "kernelspec": {
   "display_name": "Python 3",
   "language": "python",
   "name": "python3"
  },
  "language_info": {
   "codemirror_mode": {
    "name": "ipython",
    "version": 3
   },
   "file_extension": ".py",
   "mimetype": "text/x-python",
   "name": "python",
   "nbconvert_exporter": "python",
   "pygments_lexer": "ipython3",
   "version": "3.11.5"
  },
  "orig_nbformat": 4
 },
 "nbformat": 4,
 "nbformat_minor": 2
}
