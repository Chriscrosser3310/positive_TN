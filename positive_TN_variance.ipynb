{
 "cells": [
  {
   "cell_type": "code",
   "execution_count": 32,
   "metadata": {},
   "outputs": [],
   "source": [
    "from autoray import numpy\n",
    "import numpy as np\n",
    "import quimb as qu\n",
    "import quimb.tensor as qtn\n",
    "from matplotlib import pyplot as plt\n",
    "import scipy.stats as stats\n",
    "import scipy\n",
    "from distfit import distfit\n",
    "import itertools\n",
    "import numpy as np"
   ]
  },
  {
   "cell_type": "code",
   "execution_count": 33,
   "metadata": {},
   "outputs": [],
   "source": [
    "n = 8\n",
    "d = 2\n",
    "\n",
    "vars = []\n",
    "for loc in np.linspace(-1, 0, 11, endpoint=True):\n",
    "    contracted_values = []\n",
    "    for _ in range(1000):\n",
    "        tn = qtn.TN2D_rand(n, n, d, dist=\"uniform\", loc=loc, scale=2)\n",
    "        v = tn.contract_boundary()\n",
    "        contracted_values.append(v)\n",
    "    var = np.var(contracted_values)\n",
    "    vars.append(var)"
   ]
  },
  {
   "cell_type": "code",
   "execution_count": 34,
   "metadata": {},
   "outputs": [
    {
     "data": {
      "text/plain": [
       "[481.76003536985695,\n",
       " 61796.489994519565,\n",
       " 7057049.526278707,\n",
       " 64017510506.65397,\n",
       " 1.967006992081098e+20,\n",
       " 2.8889410274010086e+30,\n",
       " 3.0995684857171595e+40,\n",
       " 1.978178354509943e+49,\n",
       " 3.0002240984624546e+56,\n",
       " 4.9229954509895015e+62,\n",
       " 1.3969268791545709e+68]"
      ]
     },
     "execution_count": 34,
     "metadata": {},
     "output_type": "execute_result"
    }
   ],
   "source": [
    "vars"
   ]
  },
  {
   "cell_type": "markdown",
   "metadata": {},
   "source": []
  }
 ],
 "metadata": {
  "kernelspec": {
   "display_name": "Python 3",
   "language": "python",
   "name": "python3"
  },
  "language_info": {
   "codemirror_mode": {
    "name": "ipython",
    "version": 3
   },
   "file_extension": ".py",
   "mimetype": "text/x-python",
   "name": "python",
   "nbconvert_exporter": "python",
   "pygments_lexer": "ipython3",
   "version": "3.11.5"
  },
  "orig_nbformat": 4
 },
 "nbformat": 4,
 "nbformat_minor": 2
}
